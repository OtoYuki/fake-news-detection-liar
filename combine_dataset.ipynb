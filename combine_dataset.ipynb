{
 "cells": [
  {
   "cell_type": "markdown",
   "metadata": {},
   "source": [
    "### Title: Data Combination Notebook - LIAR Dataset\n",
    "### Filename: combine_datasets.ipynb"
   ]
  },
  {
   "cell_type": "markdown",
   "metadata": {},
   "source": [
    "# Combining LIAR Dataset Files\n",
    "This notebook combines the three separate TSV files from the LIAR dataset into a single comprehensive dataset.\n",
    "\n",
    "## Dataset Information\n",
    "The LIAR dataset consists of three files:\n",
    "- train.tsv\n",
    "- valid.tsv\n",
    "- test.tsv\n",
    "\n",
    "Each file contains statements labeled for truthfulness with various metadata."
   ]
  },
  {
   "cell_type": "code",
   "execution_count": 2,
   "metadata": {},
   "outputs": [],
   "source": [
    "# Importing the required libraries\n",
    "import pandas as pd\n",
    "import os"
   ]
  },
  {
   "cell_type": "markdown",
   "metadata": {},
   "source": [
    "#### Define Column Names\n",
    "Based on the README file, we define the columns for our dataset:"
   ]
  },
  {
   "cell_type": "code",
   "execution_count": 3,
   "metadata": {},
   "outputs": [],
   "source": [
    "# Defining the Column names based on the README file\n",
    "column_names = [\n",
    "    \"id\",\n",
    "    \"label\",\n",
    "    \"statement\",\n",
    "    \"subject\",\n",
    "    \"speaker\",\n",
    "    \"speaker_job\",\n",
    "    \"state_info\",\n",
    "    \"party_affiliation\",\n",
    "    \"barely_true_counts\",\n",
    "    \"false_counts\",\n",
    "    \"half_true_counts\",\n",
    "    \"mostly_true_counts\",\n",
    "    \"pants_on_fire_counts\",\n",
    "    \"context\",\n",
    "]"
   ]
  },
  {
   "cell_type": "markdown",
   "metadata": {},
   "source": [
    "#### Load and Combine the Datasets"
   ]
  },
  {
   "cell_type": "code",
   "execution_count": 4,
   "metadata": {},
   "outputs": [],
   "source": [
    "# Dataset Path\n",
    "dataset_path = \"liar_dataset\""
   ]
  },
  {
   "cell_type": "code",
   "execution_count": 5,
   "metadata": {},
   "outputs": [],
   "source": [
    "# Loading the Three TSV files\n",
    "train_df = pd.read_csv(\n",
    "    os.path.join(dataset_path, \"train.tsv\"), sep=\"\\t\", names=column_names\n",
    ")\n",
    "valid_df = pd.read_csv(\n",
    "    os.path.join(dataset_path, \"valid.tsv\"), sep=\"\\t\", names=column_names\n",
    ")\n",
    "test_df = pd.read_csv(\n",
    "    os.path.join(dataset_path, \"test.tsv\"), sep=\"\\t\", names=column_names\n",
    ")"
   ]
  },
  {
   "cell_type": "code",
   "execution_count": 6,
   "metadata": {},
   "outputs": [],
   "source": [
    "# Combining the three datasets\n",
    "combined_df = pd.concat([train_df, valid_df, test_df], axis=0, ignore_index=True)"
   ]
  },
  {
   "cell_type": "markdown",
   "metadata": {},
   "source": [
    "#### Basic Dataset Statistics"
   ]
  },
  {
   "cell_type": "code",
   "execution_count": 7,
   "metadata": {},
   "outputs": [
    {
     "name": "stdout",
     "output_type": "stream",
     "text": [
      "Dataset Statistics:\n",
      "Total number of rows: 12791\n",
      "\n",
      "Distribution of labels:\n",
      "label\n",
      "half-true      2627\n",
      "false          2507\n",
      "mostly-true    2454\n",
      "barely-true    2103\n",
      "true           2053\n",
      "pants-fire     1047\n",
      "Name: count, dtype: int64\n",
      "\n",
      "Missing values in each column:\n",
      "id                         0\n",
      "label                      0\n",
      "statement                  0\n",
      "subject                    2\n",
      "speaker                    2\n",
      "speaker_job             3568\n",
      "state_info              2751\n",
      "party_affiliation          2\n",
      "barely_true_counts         2\n",
      "false_counts               2\n",
      "half_true_counts           2\n",
      "mostly_true_counts         2\n",
      "pants_on_fire_counts       2\n",
      "context                  131\n",
      "dtype: int64\n"
     ]
    }
   ],
   "source": [
    "print(\"Dataset Statistics:\")\n",
    "print(f\"Total number of rows: {len(combined_df)}\")\n",
    "print(\"\\nDistribution of labels:\")\n",
    "print(combined_df[\"label\"].value_counts())\n",
    "print(\"\\nMissing values in each column:\")\n",
    "print(combined_df.isnull().sum())"
   ]
  },
  {
   "cell_type": "markdown",
   "metadata": {},
   "source": [
    "#### Exporting the Combined Dataset"
   ]
  },
  {
   "cell_type": "code",
   "execution_count": 8,
   "metadata": {},
   "outputs": [
    {
     "name": "stdout",
     "output_type": "stream",
     "text": [
      "\n",
      "Combined dataset saved to: liar_dataset/liars_dataset.csv\n"
     ]
    }
   ],
   "source": [
    "# Save the combined dataset\n",
    "output_path = os.path.join(dataset_path, \"liars_dataset.csv\")\n",
    "combined_df.to_csv(output_path, index=False)\n",
    "print(f\"\\nCombined dataset saved to: {output_path}\")"
   ]
  }
 ],
 "metadata": {
  "kernelspec": {
   "display_name": "year3",
   "language": "python",
   "name": "python3"
  },
  "language_info": {
   "codemirror_mode": {
    "name": "ipython",
    "version": 3
   },
   "file_extension": ".py",
   "mimetype": "text/x-python",
   "name": "python",
   "nbconvert_exporter": "python",
   "pygments_lexer": "ipython3",
   "version": "3.12.7"
  }
 },
 "nbformat": 4,
 "nbformat_minor": 2
}
